{
 "cells": [
  {
   "cell_type": "code",
   "execution_count": 47,
   "id": "41ea42c1-ab7a-4643-bda7-e72feebc7192",
   "metadata": {},
   "outputs": [],
   "source": [
    "import pandas as pd\n",
    "import numpy as np"
   ]
  },
  {
   "cell_type": "markdown",
   "id": "7627ce60-b69e-49b4-a79c-d1bd7858f83b",
   "metadata": {},
   "source": [
    "# Batting in Test"
   ]
  },
  {
   "cell_type": "code",
   "execution_count": 56,
   "id": "c6834a03-8b7c-4372-bfea-685f7992a733",
   "metadata": {},
   "outputs": [
    {
     "data": {
      "text/html": [
       "<div>\n",
       "<style scoped>\n",
       "    .dataframe tbody tr th:only-of-type {\n",
       "        vertical-align: middle;\n",
       "    }\n",
       "\n",
       "    .dataframe tbody tr th {\n",
       "        vertical-align: top;\n",
       "    }\n",
       "\n",
       "    .dataframe thead th {\n",
       "        text-align: right;\n",
       "    }\n",
       "</style>\n",
       "<table border=\"1\" class=\"dataframe\">\n",
       "  <thead>\n",
       "    <tr style=\"text-align: right;\">\n",
       "      <th></th>\n",
       "      <th>Player ID</th>\n",
       "      <th>Player</th>\n",
       "      <th>Span</th>\n",
       "      <th>Matches</th>\n",
       "      <th>Innings</th>\n",
       "      <th>NO</th>\n",
       "      <th>Runs</th>\n",
       "      <th>HS</th>\n",
       "      <th>Avg</th>\n",
       "      <th>100</th>\n",
       "      <th>50</th>\n",
       "      <th>0</th>\n",
       "    </tr>\n",
       "  </thead>\n",
       "  <tbody>\n",
       "    <tr>\n",
       "      <th>0</th>\n",
       "      <td>35320</td>\n",
       "      <td>SR Tendulkar</td>\n",
       "      <td>1989-2013</td>\n",
       "      <td>200</td>\n",
       "      <td>329</td>\n",
       "      <td>33</td>\n",
       "      <td>15921</td>\n",
       "      <td>248*</td>\n",
       "      <td>53.78</td>\n",
       "      <td>51</td>\n",
       "      <td>68</td>\n",
       "      <td>14</td>\n",
       "    </tr>\n",
       "    <tr>\n",
       "      <th>1</th>\n",
       "      <td>28114</td>\n",
       "      <td>R Dravid</td>\n",
       "      <td>1996-2012</td>\n",
       "      <td>163</td>\n",
       "      <td>284</td>\n",
       "      <td>32</td>\n",
       "      <td>13265</td>\n",
       "      <td>270</td>\n",
       "      <td>52.63</td>\n",
       "      <td>36</td>\n",
       "      <td>63</td>\n",
       "      <td>7</td>\n",
       "    </tr>\n",
       "    <tr>\n",
       "      <th>2</th>\n",
       "      <td>28794</td>\n",
       "      <td>SM Gavaskar</td>\n",
       "      <td>1971-1987</td>\n",
       "      <td>125</td>\n",
       "      <td>214</td>\n",
       "      <td>16</td>\n",
       "      <td>10122</td>\n",
       "      <td>236*</td>\n",
       "      <td>51.12</td>\n",
       "      <td>34</td>\n",
       "      <td>45</td>\n",
       "      <td>12</td>\n",
       "    </tr>\n",
       "    <tr>\n",
       "      <th>3</th>\n",
       "      <td>253802</td>\n",
       "      <td>V Kohli</td>\n",
       "      <td>2011-2025</td>\n",
       "      <td>123</td>\n",
       "      <td>210</td>\n",
       "      <td>13</td>\n",
       "      <td>9230</td>\n",
       "      <td>254*</td>\n",
       "      <td>46.85</td>\n",
       "      <td>30</td>\n",
       "      <td>31</td>\n",
       "      <td>15</td>\n",
       "    </tr>\n",
       "    <tr>\n",
       "      <th>4</th>\n",
       "      <td>30750</td>\n",
       "      <td>VVS Laxman</td>\n",
       "      <td>1996-2012</td>\n",
       "      <td>134</td>\n",
       "      <td>225</td>\n",
       "      <td>34</td>\n",
       "      <td>8781</td>\n",
       "      <td>281</td>\n",
       "      <td>45.97</td>\n",
       "      <td>17</td>\n",
       "      <td>56</td>\n",
       "      <td>14</td>\n",
       "    </tr>\n",
       "  </tbody>\n",
       "</table>\n",
       "</div>"
      ],
      "text/plain": [
       "   Player ID        Player       Span  Matches Innings  NO   Runs    HS  \\\n",
       "0      35320  SR Tendulkar  1989-2013      200     329  33  15921  248*   \n",
       "1      28114      R Dravid  1996-2012      163     284  32  13265   270   \n",
       "2      28794   SM Gavaskar  1971-1987      125     214  16  10122  236*   \n",
       "3     253802       V Kohli  2011-2025      123     210  13   9230  254*   \n",
       "4      30750    VVS Laxman  1996-2012      134     225  34   8781   281   \n",
       "\n",
       "     Avg 100  50   0  \n",
       "0  53.78  51  68  14  \n",
       "1  52.63  36  63   7  \n",
       "2  51.12  34  45  12  \n",
       "3  46.85  30  31  15  \n",
       "4  45.97  17  56  14  "
      ]
     },
     "execution_count": 56,
     "metadata": {},
     "output_type": "execute_result"
    }
   ],
   "source": [
    "df1=pd.read_excel('Test.xlsx')\n",
    "df1.head()"
   ]
  },
  {
   "cell_type": "code",
   "execution_count": 67,
   "id": "d1da8340-a660-4346-a1cd-15bd815a697b",
   "metadata": {},
   "outputs": [
    {
     "name": "stdout",
     "output_type": "stream",
     "text": [
      "<class 'pandas.core.frame.DataFrame'>\n",
      "Index: 316 entries, 35320 to 34189\n",
      "Data columns (total 9 columns):\n",
      " #   Column   Non-Null Count  Dtype \n",
      "---  ------   --------------  ----- \n",
      " 0   Player   316 non-null    object\n",
      " 1   Matches  316 non-null    int64 \n",
      " 2   Innings  312 non-null    Int64 \n",
      " 3   NO       312 non-null    object\n",
      " 4   Runs     312 non-null    object\n",
      " 5   Avg      301 non-null    object\n",
      " 6   100      312 non-null    object\n",
      " 7   50       312 non-null    object\n",
      " 8   0        312 non-null    object\n",
      "dtypes: Int64(1), int64(1), object(7)\n",
      "memory usage: 25.0+ KB\n"
     ]
    }
   ],
   "source": [
    "df1.info()"
   ]
  },
  {
   "cell_type": "code",
   "execution_count": 63,
   "id": "dcef8a9f-d263-493e-b3a9-03134d3bd972",
   "metadata": {},
   "outputs": [],
   "source": [
    "df1.set_index('Player ID',inplace=True)"
   ]
  },
  {
   "cell_type": "code",
   "execution_count": 64,
   "id": "d8b16f06-f04f-4bca-ac3b-fc3b60b394c2",
   "metadata": {},
   "outputs": [],
   "source": [
    "df1.drop(['HS','Span'],axis=1,inplace=True)"
   ]
  },
  {
   "cell_type": "code",
   "execution_count": 85,
   "id": "9a7ff54b-da25-489b-8ec9-3eeb05420c42",
   "metadata": {},
   "outputs": [],
   "source": [
    "df1.drop('Player',axis=1,inplace=True)"
   ]
  },
  {
   "cell_type": "code",
   "execution_count": 65,
   "id": "61a123c7-88f9-4295-a361-5903659c726e",
   "metadata": {},
   "outputs": [
    {
     "data": {
      "text/plain": [
       "Player ID\n",
       "35320     200\n",
       "28114     163\n",
       "28794     125\n",
       "253802    123\n",
       "30750     134\n",
       "         ... \n",
       "35657       1\n",
       "27988       1\n",
       "33027       1\n",
       "34020       1\n",
       "34189       1\n",
       "Name: Matches, Length: 316, dtype: int32"
      ]
     },
     "execution_count": 65,
     "metadata": {},
     "output_type": "execute_result"
    }
   ],
   "source": [
    "df1['Matches'].astype(int)"
   ]
  },
  {
   "cell_type": "code",
   "execution_count": 77,
   "id": "b60f5bf2-8ffe-458b-bddc-4a222d65a89d",
   "metadata": {},
   "outputs": [
    {
     "data": {
      "text/html": [
       "<div>\n",
       "<style scoped>\n",
       "    .dataframe tbody tr th:only-of-type {\n",
       "        vertical-align: middle;\n",
       "    }\n",
       "\n",
       "    .dataframe tbody tr th {\n",
       "        vertical-align: top;\n",
       "    }\n",
       "\n",
       "    .dataframe thead th {\n",
       "        text-align: right;\n",
       "    }\n",
       "</style>\n",
       "<table border=\"1\" class=\"dataframe\">\n",
       "  <thead>\n",
       "    <tr style=\"text-align: right;\">\n",
       "      <th></th>\n",
       "      <th>Player</th>\n",
       "      <th>Matches</th>\n",
       "      <th>Innings</th>\n",
       "      <th>NO</th>\n",
       "      <th>Runs</th>\n",
       "      <th>Avg</th>\n",
       "      <th>100</th>\n",
       "      <th>50</th>\n",
       "      <th>0</th>\n",
       "    </tr>\n",
       "    <tr>\n",
       "      <th>Player ID</th>\n",
       "      <th></th>\n",
       "      <th></th>\n",
       "      <th></th>\n",
       "      <th></th>\n",
       "      <th></th>\n",
       "      <th></th>\n",
       "      <th></th>\n",
       "      <th></th>\n",
       "      <th></th>\n",
       "    </tr>\n",
       "  </thead>\n",
       "  <tbody>\n",
       "    <tr>\n",
       "      <th>30151</th>\n",
       "      <td>RR Kulkarni</td>\n",
       "      <td>3</td>\n",
       "      <td>2</td>\n",
       "      <td>0</td>\n",
       "      <td>2</td>\n",
       "      <td>1.0</td>\n",
       "      <td>0</td>\n",
       "      <td>0</td>\n",
       "      <td>1</td>\n",
       "    </tr>\n",
       "    <tr>\n",
       "      <th>30908</th>\n",
       "      <td>ES Maka</td>\n",
       "      <td>2</td>\n",
       "      <td>1</td>\n",
       "      <td>1</td>\n",
       "      <td>2</td>\n",
       "      <td>NaN</td>\n",
       "      <td>0</td>\n",
       "      <td>0</td>\n",
       "      <td>0</td>\n",
       "    </tr>\n",
       "    <tr>\n",
       "      <th>34214</th>\n",
       "      <td>RL Sanghvi</td>\n",
       "      <td>1</td>\n",
       "      <td>2</td>\n",
       "      <td>0</td>\n",
       "      <td>2</td>\n",
       "      <td>1.0</td>\n",
       "      <td>0</td>\n",
       "      <td>0</td>\n",
       "      <td>1</td>\n",
       "    </tr>\n",
       "    <tr>\n",
       "      <th>35313</th>\n",
       "      <td>KK Tarapore</td>\n",
       "      <td>1</td>\n",
       "      <td>1</td>\n",
       "      <td>0</td>\n",
       "      <td>2</td>\n",
       "      <td>2.0</td>\n",
       "      <td>0</td>\n",
       "      <td>0</td>\n",
       "      <td>0</td>\n",
       "    </tr>\n",
       "    <tr>\n",
       "      <th>31872</th>\n",
       "      <td>S Nadeem</td>\n",
       "      <td>2</td>\n",
       "      <td>3</td>\n",
       "      <td>1</td>\n",
       "      <td>1</td>\n",
       "      <td>0.5</td>\n",
       "      <td>0</td>\n",
       "      <td>0</td>\n",
       "      <td>2</td>\n",
       "    </tr>\n",
       "    <tr>\n",
       "      <th>802575</th>\n",
       "      <td>T Natarajan</td>\n",
       "      <td>1</td>\n",
       "      <td>1</td>\n",
       "      <td>1</td>\n",
       "      <td>1</td>\n",
       "      <td>NaN</td>\n",
       "      <td>0</td>\n",
       "      <td>0</td>\n",
       "      <td>0</td>\n",
       "    </tr>\n",
       "    <tr>\n",
       "      <th>32207</th>\n",
       "      <td>DD Parsana</td>\n",
       "      <td>2</td>\n",
       "      <td>2</td>\n",
       "      <td>0</td>\n",
       "      <td>1</td>\n",
       "      <td>0.5</td>\n",
       "      <td>0</td>\n",
       "      <td>0</td>\n",
       "      <td>1</td>\n",
       "    </tr>\n",
       "    <tr>\n",
       "      <th>33068</th>\n",
       "      <td>L Ramji</td>\n",
       "      <td>1</td>\n",
       "      <td>2</td>\n",
       "      <td>0</td>\n",
       "      <td>1</td>\n",
       "      <td>0.5</td>\n",
       "      <td>0</td>\n",
       "      <td>0</td>\n",
       "      <td>1</td>\n",
       "    </tr>\n",
       "    <tr>\n",
       "      <th>26849</th>\n",
       "      <td>SA Banerjee</td>\n",
       "      <td>1</td>\n",
       "      <td>1</td>\n",
       "      <td>0</td>\n",
       "      <td>0</td>\n",
       "      <td>0.0</td>\n",
       "      <td>0</td>\n",
       "      <td>0</td>\n",
       "      <td>1</td>\n",
       "    </tr>\n",
       "    <tr>\n",
       "      <th>30970</th>\n",
       "      <td>KR Meherhomji</td>\n",
       "      <td>1</td>\n",
       "      <td>1</td>\n",
       "      <td>1</td>\n",
       "      <td>0</td>\n",
       "      <td>NaN</td>\n",
       "      <td>0</td>\n",
       "      <td>0</td>\n",
       "      <td>0</td>\n",
       "    </tr>\n",
       "    <tr>\n",
       "      <th>31025</th>\n",
       "      <td>DS Mohanty</td>\n",
       "      <td>2</td>\n",
       "      <td>1</td>\n",
       "      <td>1</td>\n",
       "      <td>0</td>\n",
       "      <td>NaN</td>\n",
       "      <td>0</td>\n",
       "      <td>0</td>\n",
       "      <td>0</td>\n",
       "    </tr>\n",
       "    <tr>\n",
       "      <th>926851</th>\n",
       "      <td>Mukesh Kumar</td>\n",
       "      <td>3</td>\n",
       "      <td>4</td>\n",
       "      <td>3</td>\n",
       "      <td>0</td>\n",
       "      <td>0.0</td>\n",
       "      <td>0</td>\n",
       "      <td>0</td>\n",
       "      <td>1</td>\n",
       "    </tr>\n",
       "    <tr>\n",
       "      <th>32249</th>\n",
       "      <td>RGM Patel</td>\n",
       "      <td>1</td>\n",
       "      <td>2</td>\n",
       "      <td>0</td>\n",
       "      <td>0</td>\n",
       "      <td>0.0</td>\n",
       "      <td>0</td>\n",
       "      <td>0</td>\n",
       "      <td>2</td>\n",
       "    </tr>\n",
       "    <tr>\n",
       "      <th>33891</th>\n",
       "      <td>TAP Sekhar</td>\n",
       "      <td>2</td>\n",
       "      <td>1</td>\n",
       "      <td>1</td>\n",
       "      <td>0</td>\n",
       "      <td>NaN</td>\n",
       "      <td>0</td>\n",
       "      <td>0</td>\n",
       "      <td>0</td>\n",
       "    </tr>\n",
       "    <tr>\n",
       "      <th>34060</th>\n",
       "      <td>R Singh</td>\n",
       "      <td>1</td>\n",
       "      <td>1</td>\n",
       "      <td>0</td>\n",
       "      <td>0</td>\n",
       "      <td>0.0</td>\n",
       "      <td>0</td>\n",
       "      <td>0</td>\n",
       "      <td>1</td>\n",
       "    </tr>\n",
       "    <tr>\n",
       "      <th>35657</th>\n",
       "      <td>M Venkataramana</td>\n",
       "      <td>1</td>\n",
       "      <td>2</td>\n",
       "      <td>2</td>\n",
       "      <td>0</td>\n",
       "      <td>NaN</td>\n",
       "      <td>0</td>\n",
       "      <td>0</td>\n",
       "      <td>0</td>\n",
       "    </tr>\n",
       "    <tr>\n",
       "      <th>27988</th>\n",
       "      <td>HT Dani</td>\n",
       "      <td>1</td>\n",
       "      <td>&lt;NA&gt;</td>\n",
       "      <td>&lt;NA&gt;</td>\n",
       "      <td>&lt;NA&gt;</td>\n",
       "      <td>NaN</td>\n",
       "      <td>&lt;NA&gt;</td>\n",
       "      <td>&lt;NA&gt;</td>\n",
       "      <td>&lt;NA&gt;</td>\n",
       "    </tr>\n",
       "    <tr>\n",
       "      <th>33027</th>\n",
       "      <td>V Rajindernath</td>\n",
       "      <td>1</td>\n",
       "      <td>&lt;NA&gt;</td>\n",
       "      <td>&lt;NA&gt;</td>\n",
       "      <td>&lt;NA&gt;</td>\n",
       "      <td>NaN</td>\n",
       "      <td>&lt;NA&gt;</td>\n",
       "      <td>&lt;NA&gt;</td>\n",
       "      <td>&lt;NA&gt;</td>\n",
       "    </tr>\n",
       "    <tr>\n",
       "      <th>34020</th>\n",
       "      <td>RC Shukla</td>\n",
       "      <td>1</td>\n",
       "      <td>&lt;NA&gt;</td>\n",
       "      <td>&lt;NA&gt;</td>\n",
       "      <td>&lt;NA&gt;</td>\n",
       "      <td>NaN</td>\n",
       "      <td>&lt;NA&gt;</td>\n",
       "      <td>&lt;NA&gt;</td>\n",
       "      <td>&lt;NA&gt;</td>\n",
       "    </tr>\n",
       "    <tr>\n",
       "      <th>34189</th>\n",
       "      <td>VN Swamy</td>\n",
       "      <td>1</td>\n",
       "      <td>&lt;NA&gt;</td>\n",
       "      <td>&lt;NA&gt;</td>\n",
       "      <td>&lt;NA&gt;</td>\n",
       "      <td>NaN</td>\n",
       "      <td>&lt;NA&gt;</td>\n",
       "      <td>&lt;NA&gt;</td>\n",
       "      <td>&lt;NA&gt;</td>\n",
       "    </tr>\n",
       "  </tbody>\n",
       "</table>\n",
       "</div>"
      ],
      "text/plain": [
       "                    Player  Matches  Innings    NO  Runs  Avg   100    50  \\\n",
       "Player ID                                                                   \n",
       "30151          RR Kulkarni        3        2     0     2  1.0     0     0   \n",
       "30908              ES Maka        2        1     1     2  NaN     0     0   \n",
       "34214           RL Sanghvi        1        2     0     2  1.0     0     0   \n",
       "35313          KK Tarapore        1        1     0     2  2.0     0     0   \n",
       "31872             S Nadeem        2        3     1     1  0.5     0     0   \n",
       "802575         T Natarajan        1        1     1     1  NaN     0     0   \n",
       "32207           DD Parsana        2        2     0     1  0.5     0     0   \n",
       "33068              L Ramji        1        2     0     1  0.5     0     0   \n",
       "26849          SA Banerjee        1        1     0     0  0.0     0     0   \n",
       "30970        KR Meherhomji        1        1     1     0  NaN     0     0   \n",
       "31025           DS Mohanty        2        1     1     0  NaN     0     0   \n",
       "926851        Mukesh Kumar        3        4     3     0  0.0     0     0   \n",
       "32249            RGM Patel        1        2     0     0  0.0     0     0   \n",
       "33891           TAP Sekhar        2        1     1     0  NaN     0     0   \n",
       "34060              R Singh        1        1     0     0  0.0     0     0   \n",
       "35657      M Venkataramana        1        2     2     0  NaN     0     0   \n",
       "27988              HT Dani        1     <NA>  <NA>  <NA>  NaN  <NA>  <NA>   \n",
       "33027       V Rajindernath        1     <NA>  <NA>  <NA>  NaN  <NA>  <NA>   \n",
       "34020            RC Shukla        1     <NA>  <NA>  <NA>  NaN  <NA>  <NA>   \n",
       "34189             VN Swamy        1     <NA>  <NA>  <NA>  NaN  <NA>  <NA>   \n",
       "\n",
       "              0  \n",
       "Player ID        \n",
       "30151         1  \n",
       "30908         0  \n",
       "34214         1  \n",
       "35313         0  \n",
       "31872         2  \n",
       "802575        0  \n",
       "32207         1  \n",
       "33068         1  \n",
       "26849         1  \n",
       "30970         0  \n",
       "31025         0  \n",
       "926851        1  \n",
       "32249         2  \n",
       "33891         0  \n",
       "34060         1  \n",
       "35657         0  \n",
       "27988      <NA>  \n",
       "33027      <NA>  \n",
       "34020      <NA>  \n",
       "34189      <NA>  "
      ]
     },
     "execution_count": 77,
     "metadata": {},
     "output_type": "execute_result"
    }
   ],
   "source": [
    "df1.replace('-',np.nan,inplace=True)\n",
    "df1.tail(20)"
   ]
  },
  {
   "cell_type": "code",
   "execution_count": 68,
   "id": "d8da3e6f-f107-4290-a3cf-6c4945d2bf77",
   "metadata": {},
   "outputs": [
    {
     "data": {
      "text/plain": [
       "Index(['Player', 'Matches', 'Innings', 'NO', 'Runs', 'Avg', '100', '50', '0'], dtype='object')"
      ]
     },
     "execution_count": 68,
     "metadata": {},
     "output_type": "execute_result"
    }
   ],
   "source": [
    "df1.columns"
   ]
  },
  {
   "cell_type": "code",
   "execution_count": 70,
   "id": "e1fa0704-5b44-4ded-8ffa-54967a608c6a",
   "metadata": {},
   "outputs": [],
   "source": [
    "df1['Innings']=pd.to_numeric(df1['Innings'],errors='coerce').astype('Int64')"
   ]
  },
  {
   "cell_type": "code",
   "execution_count": 71,
   "id": "cfc86884-6c28-4435-b443-2ff31c991c8d",
   "metadata": {},
   "outputs": [],
   "source": [
    "df1['NO']=pd.to_numeric(df1['NO'],errors='coerce').astype('Int64')\n",
    "df1['Runs']=pd.to_numeric(df1['Runs'],errors='coerce').astype('Int64')\n",
    "df1['Avg']=pd.to_numeric(df1['Avg'],errors='coerce')\n",
    "df1['100']=pd.to_numeric(df1['100'],errors='coerce').astype('Int64')\n",
    "df1['50']=pd.to_numeric(df1['50'],errors='coerce').astype('Int64')\n",
    "df1['0']=pd.to_numeric(df1['0'],errors='coerce').astype('Int64')"
   ]
  },
  {
   "cell_type": "code",
   "execution_count": 72,
   "id": "5d5d757e-e549-41bf-9d7c-95b7a3c25b1a",
   "metadata": {},
   "outputs": [
    {
     "name": "stdout",
     "output_type": "stream",
     "text": [
      "<class 'pandas.core.frame.DataFrame'>\n",
      "Index: 316 entries, 35320 to 34189\n",
      "Data columns (total 9 columns):\n",
      " #   Column   Non-Null Count  Dtype  \n",
      "---  ------   --------------  -----  \n",
      " 0   Player   316 non-null    object \n",
      " 1   Matches  316 non-null    int64  \n",
      " 2   Innings  312 non-null    Int64  \n",
      " 3   NO       312 non-null    Int64  \n",
      " 4   Runs     312 non-null    Int64  \n",
      " 5   Avg      301 non-null    float64\n",
      " 6   100      312 non-null    Int64  \n",
      " 7   50       312 non-null    Int64  \n",
      " 8   0        312 non-null    Int64  \n",
      "dtypes: Int64(6), float64(1), int64(1), object(1)\n",
      "memory usage: 26.5+ KB\n"
     ]
    }
   ],
   "source": [
    "df1.info()"
   ]
  },
  {
   "cell_type": "code",
   "execution_count": 76,
   "id": "3416b58e-c53b-4784-8f1f-b1c0386065c4",
   "metadata": {},
   "outputs": [
    {
     "data": {
      "text/plain": [
       "Player      0\n",
       "Matches     0\n",
       "Innings     4\n",
       "NO          4\n",
       "Runs        4\n",
       "Avg        15\n",
       "100         4\n",
       "50          4\n",
       "0           4\n",
       "dtype: int64"
      ]
     },
     "execution_count": 76,
     "metadata": {},
     "output_type": "execute_result"
    }
   ],
   "source": [
    "df1.isna().sum()"
   ]
  },
  {
   "cell_type": "code",
   "execution_count": 80,
   "id": "0d8e3de8-0cb3-42aa-8c3f-18359bb87844",
   "metadata": {},
   "outputs": [],
   "source": [
    "df1.dropna(inplace=True)"
   ]
  },
  {
   "cell_type": "code",
   "execution_count": 91,
   "id": "221b3e65-86cb-48a4-b473-554407241b1a",
   "metadata": {},
   "outputs": [
    {
     "data": {
      "text/plain": [
       "Matches    0\n",
       "Innings    0\n",
       "NO         0\n",
       "Runs       0\n",
       "Avg        0\n",
       "100        0\n",
       "50         0\n",
       "0          0\n",
       "dtype: int64"
      ]
     },
     "execution_count": 91,
     "metadata": {},
     "output_type": "execute_result"
    }
   ],
   "source": [
    "df1.isna().sum()\n"
   ]
  },
  {
   "cell_type": "markdown",
   "id": "cfde3c3c-620e-4bf3-9717-dc6135469c48",
   "metadata": {},
   "source": [
    "# Bowling in Test"
   ]
  },
  {
   "cell_type": "code",
   "execution_count": 83,
   "id": "ba0963ad-4a7f-4171-9765-c2c28e8467db",
   "metadata": {},
   "outputs": [
    {
     "data": {
      "text/html": [
       "<div>\n",
       "<style scoped>\n",
       "    .dataframe tbody tr th:only-of-type {\n",
       "        vertical-align: middle;\n",
       "    }\n",
       "\n",
       "    .dataframe tbody tr th {\n",
       "        vertical-align: top;\n",
       "    }\n",
       "\n",
       "    .dataframe thead th {\n",
       "        text-align: right;\n",
       "    }\n",
       "</style>\n",
       "<table border=\"1\" class=\"dataframe\">\n",
       "  <thead>\n",
       "    <tr style=\"text-align: right;\">\n",
       "      <th></th>\n",
       "      <th>Player ID</th>\n",
       "      <th>Player</th>\n",
       "      <th>Span</th>\n",
       "      <th>Matches</th>\n",
       "      <th>Innings</th>\n",
       "      <th>Balls</th>\n",
       "      <th>Runs</th>\n",
       "      <th>Wkts</th>\n",
       "      <th>BBI</th>\n",
       "      <th>BBM</th>\n",
       "      <th>Avg</th>\n",
       "      <th>Econ</th>\n",
       "      <th>SR</th>\n",
       "      <th>5</th>\n",
       "      <th>10</th>\n",
       "    </tr>\n",
       "  </thead>\n",
       "  <tbody>\n",
       "    <tr>\n",
       "      <th>0</th>\n",
       "      <td>30176</td>\n",
       "      <td>A Kumble</td>\n",
       "      <td>1990-2008</td>\n",
       "      <td>132</td>\n",
       "      <td>236</td>\n",
       "      <td>40850</td>\n",
       "      <td>18355</td>\n",
       "      <td>619</td>\n",
       "      <td>10/74</td>\n",
       "      <td>14/149</td>\n",
       "      <td>29.65</td>\n",
       "      <td>2.69</td>\n",
       "      <td>65.9</td>\n",
       "      <td>35</td>\n",
       "      <td>8</td>\n",
       "    </tr>\n",
       "    <tr>\n",
       "      <th>1</th>\n",
       "      <td>26421</td>\n",
       "      <td>R Ashwin</td>\n",
       "      <td>2011-2024</td>\n",
       "      <td>106</td>\n",
       "      <td>200</td>\n",
       "      <td>27246</td>\n",
       "      <td>12891</td>\n",
       "      <td>537</td>\n",
       "      <td>7/59</td>\n",
       "      <td>13/140</td>\n",
       "      <td>24.00</td>\n",
       "      <td>2.83</td>\n",
       "      <td>50.7</td>\n",
       "      <td>37</td>\n",
       "      <td>8</td>\n",
       "    </tr>\n",
       "    <tr>\n",
       "      <th>2</th>\n",
       "      <td>30028</td>\n",
       "      <td>N Kapil Dev</td>\n",
       "      <td>1978-1994</td>\n",
       "      <td>131</td>\n",
       "      <td>227</td>\n",
       "      <td>27740</td>\n",
       "      <td>12867</td>\n",
       "      <td>434</td>\n",
       "      <td>9/83</td>\n",
       "      <td>11/146</td>\n",
       "      <td>29.64</td>\n",
       "      <td>2.78</td>\n",
       "      <td>63.9</td>\n",
       "      <td>23</td>\n",
       "      <td>2</td>\n",
       "    </tr>\n",
       "    <tr>\n",
       "      <th>3</th>\n",
       "      <td>29264</td>\n",
       "      <td>Harbhajan Singh</td>\n",
       "      <td>1998-2015</td>\n",
       "      <td>103</td>\n",
       "      <td>190</td>\n",
       "      <td>28580</td>\n",
       "      <td>13537</td>\n",
       "      <td>417</td>\n",
       "      <td>8/84</td>\n",
       "      <td>15/217</td>\n",
       "      <td>32.46</td>\n",
       "      <td>2.84</td>\n",
       "      <td>68.5</td>\n",
       "      <td>25</td>\n",
       "      <td>5</td>\n",
       "    </tr>\n",
       "    <tr>\n",
       "      <th>4</th>\n",
       "      <td>234675</td>\n",
       "      <td>RA Jadeja</td>\n",
       "      <td>2012-2025</td>\n",
       "      <td>80</td>\n",
       "      <td>150</td>\n",
       "      <td>18473</td>\n",
       "      <td>7798</td>\n",
       "      <td>323</td>\n",
       "      <td>7/42</td>\n",
       "      <td>10/110</td>\n",
       "      <td>24.14</td>\n",
       "      <td>2.53</td>\n",
       "      <td>57.1</td>\n",
       "      <td>15</td>\n",
       "      <td>3</td>\n",
       "    </tr>\n",
       "  </tbody>\n",
       "</table>\n",
       "</div>"
      ],
      "text/plain": [
       "   Player ID           Player       Span  Matches Innings  Balls   Runs Wkts  \\\n",
       "0      30176         A Kumble  1990-2008      132     236  40850  18355  619   \n",
       "1      26421         R Ashwin  2011-2024      106     200  27246  12891  537   \n",
       "2      30028      N Kapil Dev  1978-1994      131     227  27740  12867  434   \n",
       "3      29264  Harbhajan Singh  1998-2015      103     190  28580  13537  417   \n",
       "4     234675        RA Jadeja  2012-2025       80     150  18473   7798  323   \n",
       "\n",
       "     BBI     BBM    Avg  Econ    SR   5 10  \n",
       "0  10/74  14/149  29.65  2.69  65.9  35  8  \n",
       "1   7/59  13/140  24.00  2.83  50.7  37  8  \n",
       "2   9/83  11/146  29.64  2.78  63.9  23  2  \n",
       "3   8/84  15/217  32.46  2.84  68.5  25  5  \n",
       "4   7/42  10/110  24.14  2.53  57.1  15  3  "
      ]
     },
     "execution_count": 83,
     "metadata": {},
     "output_type": "execute_result"
    }
   ],
   "source": [
    "df2=pd.read_excel('Test.xlsx',sheet_name='Bowling')\n",
    "df2.head()"
   ]
  },
  {
   "cell_type": "code",
   "execution_count": 89,
   "id": "9c0d4dc5-ae10-43b3-95bf-a91503323538",
   "metadata": {},
   "outputs": [],
   "source": [
    "df2.drop(['Span','Balls','Runs','BBI','BBM','Player'],axis=1,inplace=True)"
   ]
  },
  {
   "cell_type": "code",
   "execution_count": 90,
   "id": "dfd6d9c3-ecd1-4212-b158-834fae11c78c",
   "metadata": {},
   "outputs": [
    {
     "data": {
      "text/plain": [
       "Index(['Player ID', 'Matches', 'Innings', 'Wkts', 'Avg', 'Econ', 'SR', '5',\n",
       "       '10'],\n",
       "      dtype='object')"
      ]
     },
     "execution_count": 90,
     "metadata": {},
     "output_type": "execute_result"
    }
   ],
   "source": [
    "df2.columns"
   ]
  },
  {
   "cell_type": "code",
   "execution_count": 92,
   "id": "2f9c6d2f-0817-41c5-8452-a565a5859cae",
   "metadata": {},
   "outputs": [
    {
     "name": "stdout",
     "output_type": "stream",
     "text": [
      "<class 'pandas.core.frame.DataFrame'>\n",
      "RangeIndex: 316 entries, 0 to 315\n",
      "Data columns (total 9 columns):\n",
      " #   Column     Non-Null Count  Dtype \n",
      "---  ------     --------------  ----- \n",
      " 0   Player ID  316 non-null    int64 \n",
      " 1   Matches    316 non-null    int64 \n",
      " 2   Innings    316 non-null    object\n",
      " 3   Wkts       316 non-null    object\n",
      " 4   Avg        316 non-null    object\n",
      " 5   Econ       316 non-null    object\n",
      " 6   SR         316 non-null    object\n",
      " 7   5          316 non-null    object\n",
      " 8   10         316 non-null    object\n",
      "dtypes: int64(2), object(7)\n",
      "memory usage: 22.3+ KB\n"
     ]
    }
   ],
   "source": [
    "df2.info()"
   ]
  },
  {
   "cell_type": "code",
   "execution_count": 94,
   "id": "17cc472f-b92e-47fd-958b-be6f08989fc0",
   "metadata": {},
   "outputs": [],
   "source": [
    "df2.replace('-',np.nan,inplace=True)"
   ]
  },
  {
   "cell_type": "code",
   "execution_count": 95,
   "id": "fc6a57ac-2481-4d5b-83da-18526a8f07f9",
   "metadata": {},
   "outputs": [],
   "source": [
    "df2['Innings']=pd.to_numeric(df2['Innings'],errors='coerce').astype('Int64')\n",
    "df2['Wkts']=pd.to_numeric(df2['Wkts'],errors='coerce').astype('Int64')\n",
    "df2['Avg']=pd.to_numeric(df2['Avg'],errors='coerce')\n",
    "df2['Econ']=pd.to_numeric(df2['Econ'],errors='coerce')\n",
    "df2['SR']=pd.to_numeric(df2['SR'],errors='coerce')\n",
    "df2['5']=pd.to_numeric(df2['5'],errors='coerce').astype('Int64')\n",
    "df2['10']=pd.to_numeric(df2['10'],errors='coerce').astype('Int64')"
   ]
  },
  {
   "cell_type": "code",
   "execution_count": 97,
   "id": "77dd8d1f-81b5-4c32-a6dc-7d6b98744b41",
   "metadata": {},
   "outputs": [],
   "source": [
    "df2.dropna(inplace=True)"
   ]
  },
  {
   "cell_type": "code",
   "execution_count": 98,
   "id": "38538d3c-3416-4e95-ae2f-6a1a24495e1f",
   "metadata": {},
   "outputs": [
    {
     "data": {
      "text/plain": [
       "Player ID    0\n",
       "Matches      0\n",
       "Innings      0\n",
       "Wkts         0\n",
       "Avg          0\n",
       "Econ         0\n",
       "SR           0\n",
       "5            0\n",
       "10           0\n",
       "dtype: int64"
      ]
     },
     "execution_count": 98,
     "metadata": {},
     "output_type": "execute_result"
    }
   ],
   "source": [
    "df2.isna().sum()"
   ]
  },
  {
   "cell_type": "markdown",
   "id": "d5ab0d3a-c854-4095-bce3-fd8fd4b8f3bf",
   "metadata": {},
   "source": [
    "# Fieling in Test"
   ]
  },
  {
   "cell_type": "code",
   "execution_count": 99,
   "id": "85936f99-fbb2-4884-b9af-9b3c8d8a3c1d",
   "metadata": {},
   "outputs": [
    {
     "data": {
      "text/html": [
       "<div>\n",
       "<style scoped>\n",
       "    .dataframe tbody tr th:only-of-type {\n",
       "        vertical-align: middle;\n",
       "    }\n",
       "\n",
       "    .dataframe tbody tr th {\n",
       "        vertical-align: top;\n",
       "    }\n",
       "\n",
       "    .dataframe thead th {\n",
       "        text-align: right;\n",
       "    }\n",
       "</style>\n",
       "<table border=\"1\" class=\"dataframe\">\n",
       "  <thead>\n",
       "    <tr style=\"text-align: right;\">\n",
       "      <th></th>\n",
       "      <th>Player ID</th>\n",
       "      <th>Player</th>\n",
       "      <th>Span</th>\n",
       "      <th>Matches</th>\n",
       "      <th>Innings</th>\n",
       "      <th>Dismissial</th>\n",
       "      <th>Catches</th>\n",
       "      <th>Stumps</th>\n",
       "      <th>keeping</th>\n",
       "      <th>fielding</th>\n",
       "      <th>MD</th>\n",
       "      <th>D/I</th>\n",
       "    </tr>\n",
       "  </thead>\n",
       "  <tbody>\n",
       "    <tr>\n",
       "      <th>0</th>\n",
       "      <td>28081</td>\n",
       "      <td>MS Dhoni</td>\n",
       "      <td>2005-2014</td>\n",
       "      <td>90</td>\n",
       "      <td>166</td>\n",
       "      <td>294</td>\n",
       "      <td>256</td>\n",
       "      <td>38</td>\n",
       "      <td>256</td>\n",
       "      <td>0</td>\n",
       "      <td>6 (6ct 0st)</td>\n",
       "      <td>1.771</td>\n",
       "    </tr>\n",
       "    <tr>\n",
       "      <th>1</th>\n",
       "      <td>28114</td>\n",
       "      <td>R Dravid</td>\n",
       "      <td>1996-2012</td>\n",
       "      <td>163</td>\n",
       "      <td>299</td>\n",
       "      <td>209</td>\n",
       "      <td>209</td>\n",
       "      <td>0</td>\n",
       "      <td>0</td>\n",
       "      <td>209</td>\n",
       "      <td>3 (3ct 0st)</td>\n",
       "      <td>0.698</td>\n",
       "    </tr>\n",
       "    <tr>\n",
       "      <th>2</th>\n",
       "      <td>30116</td>\n",
       "      <td>SMH Kirmani</td>\n",
       "      <td>1976-1986</td>\n",
       "      <td>88</td>\n",
       "      <td>151</td>\n",
       "      <td>198</td>\n",
       "      <td>160</td>\n",
       "      <td>38</td>\n",
       "      <td>160</td>\n",
       "      <td>0</td>\n",
       "      <td>6 (5ct 1st)</td>\n",
       "      <td>1.311</td>\n",
       "    </tr>\n",
       "    <tr>\n",
       "      <th>3</th>\n",
       "      <td>931581</td>\n",
       "      <td>RR Pant</td>\n",
       "      <td>2018-2025</td>\n",
       "      <td>43</td>\n",
       "      <td>85</td>\n",
       "      <td>164</td>\n",
       "      <td>149</td>\n",
       "      <td>15</td>\n",
       "      <td>149</td>\n",
       "      <td>0</td>\n",
       "      <td>6 (6ct 0st)</td>\n",
       "      <td>1.929</td>\n",
       "    </tr>\n",
       "    <tr>\n",
       "      <th>4</th>\n",
       "      <td>30750</td>\n",
       "      <td>VVS Laxman</td>\n",
       "      <td>1996-2012</td>\n",
       "      <td>134</td>\n",
       "      <td>248</td>\n",
       "      <td>135</td>\n",
       "      <td>135</td>\n",
       "      <td>0</td>\n",
       "      <td>0</td>\n",
       "      <td>135</td>\n",
       "      <td>4 (4ct 0st)</td>\n",
       "      <td>0.544</td>\n",
       "    </tr>\n",
       "  </tbody>\n",
       "</table>\n",
       "</div>"
      ],
      "text/plain": [
       "   Player ID       Player       Span  Matches  Innings  Dismissial  Catches  \\\n",
       "0      28081     MS Dhoni  2005-2014       90      166         294      256   \n",
       "1      28114     R Dravid  1996-2012      163      299         209      209   \n",
       "2      30116  SMH Kirmani  1976-1986       88      151         198      160   \n",
       "3     931581      RR Pant  2018-2025       43       85         164      149   \n",
       "4      30750   VVS Laxman  1996-2012      134      248         135      135   \n",
       "\n",
       "   Stumps  keeping  fielding           MD    D/I  \n",
       "0      38      256         0  6 (6ct 0st)  1.771  \n",
       "1       0        0       209  3 (3ct 0st)  0.698  \n",
       "2      38      160         0  6 (5ct 1st)  1.311  \n",
       "3      15      149         0  6 (6ct 0st)  1.929  \n",
       "4       0        0       135  4 (4ct 0st)  0.544  "
      ]
     },
     "execution_count": 99,
     "metadata": {},
     "output_type": "execute_result"
    }
   ],
   "source": [
    "df3=pd.read_excel('Test.xlsx',sheet_name='Fielding')\n",
    "df3.head()"
   ]
  },
  {
   "cell_type": "code",
   "execution_count": 100,
   "id": "35571277-2855-42ea-aa01-1fed397556bd",
   "metadata": {},
   "outputs": [],
   "source": [
    "df3.drop(['Player','Span','MD'],axis=1,inplace=True)"
   ]
  },
  {
   "cell_type": "code",
   "execution_count": 103,
   "id": "83449dd0-f8c0-41ce-b671-20fbce73047e",
   "metadata": {},
   "outputs": [
    {
     "data": {
      "text/plain": [
       "Player ID     0\n",
       "Matches       0\n",
       "Innings       0\n",
       "Dismissial    0\n",
       "Catches       0\n",
       "Stumps        0\n",
       "keeping       0\n",
       "fielding      0\n",
       "D/I           0\n",
       "dtype: int64"
      ]
     },
     "execution_count": 103,
     "metadata": {},
     "output_type": "execute_result"
    }
   ],
   "source": [
    "df3.isna().sum()"
   ]
  },
  {
   "cell_type": "markdown",
   "id": "1be1a3b2-f9e6-470d-8948-3b0c22d47f1c",
   "metadata": {},
   "source": [
    "# All round in Test"
   ]
  },
  {
   "cell_type": "code",
   "execution_count": 106,
   "id": "398c5c4a-3df5-4a32-b048-649bbbdcc64c",
   "metadata": {},
   "outputs": [
    {
     "data": {
      "text/html": [
       "<div>\n",
       "<style scoped>\n",
       "    .dataframe tbody tr th:only-of-type {\n",
       "        vertical-align: middle;\n",
       "    }\n",
       "\n",
       "    .dataframe tbody tr th {\n",
       "        vertical-align: top;\n",
       "    }\n",
       "\n",
       "    .dataframe thead th {\n",
       "        text-align: right;\n",
       "    }\n",
       "</style>\n",
       "<table border=\"1\" class=\"dataframe\">\n",
       "  <thead>\n",
       "    <tr style=\"text-align: right;\">\n",
       "      <th></th>\n",
       "      <th>Player ID</th>\n",
       "      <th>Player</th>\n",
       "      <th>Span</th>\n",
       "      <th>Matches</th>\n",
       "      <th>Runs</th>\n",
       "      <th>HS</th>\n",
       "      <th>Bat Avg</th>\n",
       "      <th>100</th>\n",
       "      <th>Wkts</th>\n",
       "      <th>BBI</th>\n",
       "      <th>Bowl Avg</th>\n",
       "      <th>5</th>\n",
       "      <th>Catches</th>\n",
       "      <th>Stumps</th>\n",
       "      <th>Score</th>\n",
       "    </tr>\n",
       "  </thead>\n",
       "  <tbody>\n",
       "    <tr>\n",
       "      <th>0</th>\n",
       "      <td>35320</td>\n",
       "      <td>SR Tendulkar</td>\n",
       "      <td>1989-2013</td>\n",
       "      <td>200</td>\n",
       "      <td>15921</td>\n",
       "      <td>248*</td>\n",
       "      <td>53.78</td>\n",
       "      <td>51</td>\n",
       "      <td>46</td>\n",
       "      <td>3/10</td>\n",
       "      <td>54.17</td>\n",
       "      <td>0</td>\n",
       "      <td>115</td>\n",
       "      <td>0</td>\n",
       "      <td>-0.38</td>\n",
       "    </tr>\n",
       "    <tr>\n",
       "      <th>1</th>\n",
       "      <td>28114</td>\n",
       "      <td>R Dravid</td>\n",
       "      <td>1996-2012</td>\n",
       "      <td>163</td>\n",
       "      <td>13265</td>\n",
       "      <td>270</td>\n",
       "      <td>52.63</td>\n",
       "      <td>36</td>\n",
       "      <td>1</td>\n",
       "      <td>1/18</td>\n",
       "      <td>39.00</td>\n",
       "      <td>0</td>\n",
       "      <td>209</td>\n",
       "      <td>0</td>\n",
       "      <td>13.63</td>\n",
       "    </tr>\n",
       "    <tr>\n",
       "      <th>2</th>\n",
       "      <td>28794</td>\n",
       "      <td>SM Gavaskar</td>\n",
       "      <td>1971-1987</td>\n",
       "      <td>125</td>\n",
       "      <td>10122</td>\n",
       "      <td>236*</td>\n",
       "      <td>51.12</td>\n",
       "      <td>34</td>\n",
       "      <td>1</td>\n",
       "      <td>1/34</td>\n",
       "      <td>206.00</td>\n",
       "      <td>0</td>\n",
       "      <td>108</td>\n",
       "      <td>0</td>\n",
       "      <td>-154.87</td>\n",
       "    </tr>\n",
       "    <tr>\n",
       "      <th>3</th>\n",
       "      <td>253802</td>\n",
       "      <td>V Kohli</td>\n",
       "      <td>2011-2025</td>\n",
       "      <td>123</td>\n",
       "      <td>9230</td>\n",
       "      <td>254*</td>\n",
       "      <td>46.85</td>\n",
       "      <td>30</td>\n",
       "      <td>0</td>\n",
       "      <td>-</td>\n",
       "      <td>-</td>\n",
       "      <td>0</td>\n",
       "      <td>121</td>\n",
       "      <td>0</td>\n",
       "      <td>-</td>\n",
       "    </tr>\n",
       "    <tr>\n",
       "      <th>4</th>\n",
       "      <td>30750</td>\n",
       "      <td>VVS Laxman</td>\n",
       "      <td>1996-2012</td>\n",
       "      <td>134</td>\n",
       "      <td>8781</td>\n",
       "      <td>281</td>\n",
       "      <td>45.97</td>\n",
       "      <td>17</td>\n",
       "      <td>2</td>\n",
       "      <td>1/2</td>\n",
       "      <td>63.00</td>\n",
       "      <td>0</td>\n",
       "      <td>135</td>\n",
       "      <td>0</td>\n",
       "      <td>-17.02</td>\n",
       "    </tr>\n",
       "  </tbody>\n",
       "</table>\n",
       "</div>"
      ],
      "text/plain": [
       "   Player ID        Player       Span  Matches   Runs    HS Bat Avg 100 Wkts  \\\n",
       "0      35320  SR Tendulkar  1989-2013      200  15921  248*   53.78  51   46   \n",
       "1      28114      R Dravid  1996-2012      163  13265   270   52.63  36    1   \n",
       "2      28794   SM Gavaskar  1971-1987      125  10122  236*   51.12  34    1   \n",
       "3     253802       V Kohli  2011-2025      123   9230  254*   46.85  30    0   \n",
       "4      30750    VVS Laxman  1996-2012      134   8781   281   45.97  17    2   \n",
       "\n",
       "    BBI Bowl Avg  5  Catches  Stumps    Score  \n",
       "0  3/10    54.17  0      115       0    -0.38  \n",
       "1  1/18    39.00  0      209       0    13.63  \n",
       "2  1/34   206.00  0      108       0  -154.87  \n",
       "3     -        -  0      121       0        -  \n",
       "4   1/2    63.00  0      135       0   -17.02  "
      ]
     },
     "execution_count": 106,
     "metadata": {},
     "output_type": "execute_result"
    }
   ],
   "source": [
    "df4=pd.read_excel('Test.xlsx',sheet_name='Allround')\n",
    "df4.head()"
   ]
  },
  {
   "cell_type": "code",
   "execution_count": 107,
   "id": "ddc8456d-757e-4564-b39e-24cf2cc86b56",
   "metadata": {},
   "outputs": [
    {
     "name": "stdout",
     "output_type": "stream",
     "text": [
      "<class 'pandas.core.frame.DataFrame'>\n",
      "RangeIndex: 316 entries, 0 to 315\n",
      "Data columns (total 15 columns):\n",
      " #   Column     Non-Null Count  Dtype \n",
      "---  ------     --------------  ----- \n",
      " 0   Player ID  316 non-null    int64 \n",
      " 1   Player     316 non-null    object\n",
      " 2   Span       316 non-null    object\n",
      " 3   Matches    316 non-null    int64 \n",
      " 4   Runs       316 non-null    object\n",
      " 5   HS         316 non-null    object\n",
      " 6   Bat Avg    316 non-null    object\n",
      " 7   100        316 non-null    object\n",
      " 8   Wkts       316 non-null    object\n",
      " 9   BBI        316 non-null    object\n",
      " 10  Bowl Avg   316 non-null    object\n",
      " 11  5          316 non-null    object\n",
      " 12  Catches    316 non-null    int64 \n",
      " 13  Stumps     316 non-null    int64 \n",
      " 14  Score      316 non-null    object\n",
      "dtypes: int64(4), object(11)\n",
      "memory usage: 37.2+ KB\n"
     ]
    }
   ],
   "source": [
    "df4.info()"
   ]
  },
  {
   "cell_type": "code",
   "execution_count": 112,
   "id": "168c9fe4-f6ae-4a97-af27-290098a7eb23",
   "metadata": {},
   "outputs": [],
   "source": [
    "df4.replace('-',np.nan,inplace=True)"
   ]
  },
  {
   "cell_type": "code",
   "execution_count": 115,
   "id": "8f573d18-a271-4f8b-bf95-7b72637b73ee",
   "metadata": {},
   "outputs": [],
   "source": [
    "df4['Score']=pd.to_numeric(df4['Score'],errors='coerce')"
   ]
  },
  {
   "cell_type": "code",
   "execution_count": 125,
   "id": "bf880d87-9ada-42c0-91e3-aa7864f85fc7",
   "metadata": {},
   "outputs": [],
   "source": [
    "df4.dropna(inplace=True)"
   ]
  },
  {
   "cell_type": "code",
   "execution_count": 126,
   "id": "b69d5660-206d-4f78-a19c-3a3a9142ed8c",
   "metadata": {},
   "outputs": [],
   "source": [
    "df5=df4[['Player ID','Score']]"
   ]
  },
  {
   "cell_type": "code",
   "execution_count": 127,
   "id": "a6a035b0-a0b9-4db6-a311-a6f3c9b10b67",
   "metadata": {},
   "outputs": [
    {
     "data": {
      "text/plain": [
       "Index(['Player ID', 'Score'], dtype='object')"
      ]
     },
     "execution_count": 127,
     "metadata": {},
     "output_type": "execute_result"
    }
   ],
   "source": [
    "df5.columns"
   ]
  },
  {
   "cell_type": "code",
   "execution_count": 122,
   "id": "66ddb5bc-db9d-4270-b8f2-4b0fdabdbef8",
   "metadata": {},
   "outputs": [
    {
     "data": {
      "text/plain": [
       "Index(['Player ID', 'Matches', 'Innings', 'Dismissial', 'Catches', 'Stumps',\n",
       "       'keeping', 'fielding', 'D/I'],\n",
       "      dtype='object')"
      ]
     },
     "execution_count": 122,
     "metadata": {},
     "output_type": "execute_result"
    }
   ],
   "source": [
    "df3.columns"
   ]
  },
  {
   "cell_type": "code",
   "execution_count": 120,
   "id": "0474b90c-c6d4-43c7-ae52-f8ca14ac567d",
   "metadata": {},
   "outputs": [
    {
     "data": {
      "text/plain": [
       "Index(['Matches', 'Innings', 'NO', 'Runs', 'Avg', '100', '50', '0'], dtype='object')"
      ]
     },
     "execution_count": 120,
     "metadata": {},
     "output_type": "execute_result"
    }
   ],
   "source": [
    "df1.columns"
   ]
  },
  {
   "cell_type": "code",
   "execution_count": 121,
   "id": "85f02896-6c7a-4916-9641-256d9deb5801",
   "metadata": {},
   "outputs": [
    {
     "data": {
      "text/plain": [
       "Index(['Player ID', 'Matches', 'Innings', 'Wkts', 'Avg', 'Econ', 'SR', '5',\n",
       "       '10'],\n",
       "      dtype='object')"
      ]
     },
     "execution_count": 121,
     "metadata": {},
     "output_type": "execute_result"
    }
   ],
   "source": [
    "df2.columns"
   ]
  },
  {
   "cell_type": "code",
   "execution_count": 128,
   "id": "15b7445c-3749-4df5-997d-7db59ed748af",
   "metadata": {},
   "outputs": [],
   "source": [
    "with pd.ExcelWriter(\"final_Test.xlsx\") as writer:\n",
    "    df1.to_excel(writer, sheet_name=\"Batting\",)\n",
    "    df2.to_excel(writer, sheet_name=\"Bowling\", index=False)\n",
    "    df3.to_excel(writer, sheet_name=\"Fielding\", index=False)\n",
    "    df5.to_excel(writer, sheet_name=\"Allround\", index=False)\n"
   ]
  },
  {
   "cell_type": "code",
   "execution_count": null,
   "id": "e9f9dfdb-a8c5-42d7-9bdc-cf8475da028c",
   "metadata": {},
   "outputs": [],
   "source": []
  }
 ],
 "metadata": {
  "kernelspec": {
   "display_name": "Python 3 (ipykernel)",
   "language": "python",
   "name": "python3"
  },
  "language_info": {
   "codemirror_mode": {
    "name": "ipython",
    "version": 3
   },
   "file_extension": ".py",
   "mimetype": "text/x-python",
   "name": "python",
   "nbconvert_exporter": "python",
   "pygments_lexer": "ipython3",
   "version": "3.12.7"
  }
 },
 "nbformat": 4,
 "nbformat_minor": 5
}
