{
 "cells": [
  {
   "cell_type": "code",
   "execution_count": 23,
   "id": "6409e455-a87b-40e6-9705-ed79f4b1c3d8",
   "metadata": {},
   "outputs": [],
   "source": [
    "import pandas as pd\n",
    "import numpy as np"
   ]
  },
  {
   "cell_type": "markdown",
   "id": "0f5e420d-bcec-46df-8627-58d15c4fe2cf",
   "metadata": {},
   "source": [
    "# Batting"
   ]
  },
  {
   "cell_type": "code",
   "execution_count": 24,
   "id": "5ae1b91b-c80f-40cf-a425-c69c5b52ed1b",
   "metadata": {},
   "outputs": [
    {
     "data": {
      "text/html": [
       "<div>\n",
       "<style scoped>\n",
       "    .dataframe tbody tr th:only-of-type {\n",
       "        vertical-align: middle;\n",
       "    }\n",
       "\n",
       "    .dataframe tbody tr th {\n",
       "        vertical-align: top;\n",
       "    }\n",
       "\n",
       "    .dataframe thead th {\n",
       "        text-align: right;\n",
       "    }\n",
       "</style>\n",
       "<table border=\"1\" class=\"dataframe\">\n",
       "  <thead>\n",
       "    <tr style=\"text-align: right;\">\n",
       "      <th></th>\n",
       "      <th>Player ID</th>\n",
       "      <th>Player</th>\n",
       "      <th>Span</th>\n",
       "      <th>Matches</th>\n",
       "      <th>Innings</th>\n",
       "      <th>NO</th>\n",
       "      <th>Runs</th>\n",
       "      <th>HS</th>\n",
       "      <th>Avg</th>\n",
       "      <th>BF</th>\n",
       "      <th>SR</th>\n",
       "      <th>100</th>\n",
       "      <th>50</th>\n",
       "      <th>0</th>\n",
       "    </tr>\n",
       "  </thead>\n",
       "  <tbody>\n",
       "    <tr>\n",
       "      <th>0</th>\n",
       "      <td>35320</td>\n",
       "      <td>SR Tendulkar</td>\n",
       "      <td>1989-2012</td>\n",
       "      <td>463</td>\n",
       "      <td>452</td>\n",
       "      <td>41</td>\n",
       "      <td>18426</td>\n",
       "      <td>200*</td>\n",
       "      <td>44.83</td>\n",
       "      <td>21368</td>\n",
       "      <td>86.23</td>\n",
       "      <td>49</td>\n",
       "      <td>96</td>\n",
       "      <td>20</td>\n",
       "    </tr>\n",
       "    <tr>\n",
       "      <th>1</th>\n",
       "      <td>253802</td>\n",
       "      <td>V Kohli</td>\n",
       "      <td>2008-2025</td>\n",
       "      <td>298</td>\n",
       "      <td>286</td>\n",
       "      <td>44</td>\n",
       "      <td>1480</td>\n",
       "      <td>183</td>\n",
       "      <td>57.78</td>\n",
       "      <td>14967</td>\n",
       "      <td>93.43</td>\n",
       "      <td>50</td>\n",
       "      <td>73</td>\n",
       "      <td>16</td>\n",
       "    </tr>\n",
       "    <tr>\n",
       "      <th>2</th>\n",
       "      <td>28779</td>\n",
       "      <td>SC Ganguly</td>\n",
       "      <td>1992-2007</td>\n",
       "      <td>308</td>\n",
       "      <td>297</td>\n",
       "      <td>23</td>\n",
       "      <td>11221</td>\n",
       "      <td>183</td>\n",
       "      <td>40.95</td>\n",
       "      <td>15235</td>\n",
       "      <td>73.65</td>\n",
       "      <td>22</td>\n",
       "      <td>71</td>\n",
       "      <td>16</td>\n",
       "    </tr>\n",
       "    <tr>\n",
       "      <th>3</th>\n",
       "      <td>34102</td>\n",
       "      <td>RG Sharma</td>\n",
       "      <td>2007-2025</td>\n",
       "      <td>269</td>\n",
       "      <td>261</td>\n",
       "      <td>36</td>\n",
       "      <td>11029</td>\n",
       "      <td>264</td>\n",
       "      <td>49.01</td>\n",
       "      <td>11890</td>\n",
       "      <td>92.75</td>\n",
       "      <td>32</td>\n",
       "      <td>57</td>\n",
       "      <td>16</td>\n",
       "    </tr>\n",
       "    <tr>\n",
       "      <th>4</th>\n",
       "      <td>28114</td>\n",
       "      <td>R Dravid</td>\n",
       "      <td>1996-2011</td>\n",
       "      <td>340</td>\n",
       "      <td>314</td>\n",
       "      <td>39</td>\n",
       "      <td>10768</td>\n",
       "      <td>153</td>\n",
       "      <td>39.15</td>\n",
       "      <td>15127</td>\n",
       "      <td>71.18</td>\n",
       "      <td>12</td>\n",
       "      <td>82</td>\n",
       "      <td>13</td>\n",
       "    </tr>\n",
       "  </tbody>\n",
       "</table>\n",
       "</div>"
      ],
      "text/plain": [
       "   Player ID        Player       Span  Matches Innings  NO   Runs    HS  \\\n",
       "0      35320  SR Tendulkar  1989-2012      463     452  41  18426  200*   \n",
       "1     253802       V Kohli  2008-2025      298     286  44   1480   183   \n",
       "2      28779    SC Ganguly  1992-2007      308     297  23  11221   183   \n",
       "3      34102     RG Sharma  2007-2025      269     261  36  11029   264   \n",
       "4      28114      R Dravid  1996-2011      340     314  39  10768   153   \n",
       "\n",
       "     Avg     BF     SR 100  50   0  \n",
       "0  44.83  21368  86.23  49  96  20  \n",
       "1  57.78  14967  93.43  50  73  16  \n",
       "2  40.95  15235  73.65  22  71  16  \n",
       "3  49.01  11890  92.75  32  57  16  \n",
       "4  39.15  15127  71.18  12  82  13  "
      ]
     },
     "execution_count": 24,
     "metadata": {},
     "output_type": "execute_result"
    }
   ],
   "source": [
    "df1=pd.read_excel('Datasets/ODI.xlsx')\n",
    "df1.head()"
   ]
  },
  {
   "cell_type": "code",
   "execution_count": 25,
   "id": "bd257e21-c23a-4831-9336-b90d60c37ad7",
   "metadata": {},
   "outputs": [],
   "source": [
    "df1.drop(['Player','HS','BF'],axis=1,inplace=True)"
   ]
  },
  {
   "cell_type": "code",
   "execution_count": 26,
   "id": "ef38daab-337e-4275-8dda-91fcdecdb132",
   "metadata": {},
   "outputs": [],
   "source": [
    "df1.drop(['Span','NO','0'],axis=1,inplace=True)"
   ]
  },
  {
   "cell_type": "code",
   "execution_count": 27,
   "id": "721abe36-655f-4f01-9ca7-8397f5f6f8e2",
   "metadata": {},
   "outputs": [
    {
     "name": "stdout",
     "output_type": "stream",
     "text": [
      "<class 'pandas.core.frame.DataFrame'>\n",
      "RangeIndex: 259 entries, 0 to 258\n",
      "Data columns (total 8 columns):\n",
      " #   Column     Non-Null Count  Dtype \n",
      "---  ------     --------------  ----- \n",
      " 0   Player ID  259 non-null    int64 \n",
      " 1   Matches    259 non-null    int64 \n",
      " 2   Innings    259 non-null    object\n",
      " 3   Runs       259 non-null    object\n",
      " 4   Avg        259 non-null    object\n",
      " 5   SR         259 non-null    object\n",
      " 6   100        259 non-null    object\n",
      " 7   50         259 non-null    object\n",
      "dtypes: int64(2), object(6)\n",
      "memory usage: 16.3+ KB\n"
     ]
    }
   ],
   "source": [
    "df1.info()"
   ]
  },
  {
   "cell_type": "code",
   "execution_count": 28,
   "id": "12214e28-74dc-451c-bfa2-7884f250c189",
   "metadata": {},
   "outputs": [],
   "source": [
    "df1.replace('-',np.nan,inplace=True)"
   ]
  },
  {
   "cell_type": "code",
   "execution_count": 29,
   "id": "7b926344-4133-458e-ba4f-e0dad0da9b9d",
   "metadata": {},
   "outputs": [
    {
     "data": {
      "text/plain": [
       "Index(['Player ID', 'Matches', 'Innings', 'Runs', 'Avg', 'SR', '100', '50'], dtype='object')"
      ]
     },
     "execution_count": 29,
     "metadata": {},
     "output_type": "execute_result"
    }
   ],
   "source": [
    "df1.columns"
   ]
  },
  {
   "cell_type": "code",
   "execution_count": 30,
   "id": "2ce50610-d19e-48e9-876b-a4d283aabee1",
   "metadata": {},
   "outputs": [],
   "source": [
    "df1['SR']=pd.to_numeric(df1['SR'],errors='coerce')\n",
    "df1['Runs']=pd.to_numeric(df1['Runs'],errors='coerce').astype('Int64')\n",
    "df1['Avg']=pd.to_numeric(df1['Avg'],errors='coerce')\n",
    "df1['100']=pd.to_numeric(df1['100'],errors='coerce').astype('Int64')\n",
    "df1['50']=pd.to_numeric(df1['50'],errors='coerce').astype('Int64')"
   ]
  },
  {
   "cell_type": "code",
   "execution_count": 31,
   "id": "e35da553-7d6e-49d4-99a5-7bbbfaee9a44",
   "metadata": {},
   "outputs": [
    {
     "name": "stdout",
     "output_type": "stream",
     "text": [
      "<class 'pandas.core.frame.DataFrame'>\n",
      "RangeIndex: 259 entries, 0 to 258\n",
      "Data columns (total 8 columns):\n",
      " #   Column     Non-Null Count  Dtype  \n",
      "---  ------     --------------  -----  \n",
      " 0   Player ID  259 non-null    int64  \n",
      " 1   Matches    259 non-null    int64  \n",
      " 2   Innings    249 non-null    object \n",
      " 3   Runs       249 non-null    Int64  \n",
      " 4   Avg        230 non-null    float64\n",
      " 5   SR         246 non-null    float64\n",
      " 6   100        249 non-null    Int64  \n",
      " 7   50         249 non-null    Int64  \n",
      "dtypes: Int64(3), float64(2), int64(2), object(1)\n",
      "memory usage: 17.1+ KB\n"
     ]
    }
   ],
   "source": [
    "df1.info()"
   ]
  },
  {
   "cell_type": "markdown",
   "id": "92da6cd8-0047-46f9-b89f-d95cf8c962a6",
   "metadata": {},
   "source": [
    "# Bowling"
   ]
  },
  {
   "cell_type": "code",
   "execution_count": 32,
   "id": "a3a2e075-bd59-49ae-8f7a-238dd262c0bc",
   "metadata": {},
   "outputs": [
    {
     "data": {
      "text/html": [
       "<div>\n",
       "<style scoped>\n",
       "    .dataframe tbody tr th:only-of-type {\n",
       "        vertical-align: middle;\n",
       "    }\n",
       "\n",
       "    .dataframe tbody tr th {\n",
       "        vertical-align: top;\n",
       "    }\n",
       "\n",
       "    .dataframe thead th {\n",
       "        text-align: right;\n",
       "    }\n",
       "</style>\n",
       "<table border=\"1\" class=\"dataframe\">\n",
       "  <thead>\n",
       "    <tr style=\"text-align: right;\">\n",
       "      <th></th>\n",
       "      <th>Player ID</th>\n",
       "      <th>Player</th>\n",
       "      <th>Span</th>\n",
       "      <th>Matches</th>\n",
       "      <th>Innings</th>\n",
       "      <th>Balls</th>\n",
       "      <th>Runs</th>\n",
       "      <th>Wkts</th>\n",
       "      <th>BBI</th>\n",
       "      <th>Avg</th>\n",
       "      <th>Econ</th>\n",
       "      <th>SR</th>\n",
       "      <th>4</th>\n",
       "      <th>5</th>\n",
       "    </tr>\n",
       "  </thead>\n",
       "  <tbody>\n",
       "    <tr>\n",
       "      <th>0</th>\n",
       "      <td>30176</td>\n",
       "      <td>A Kumble</td>\n",
       "      <td>1990-2007</td>\n",
       "      <td>269</td>\n",
       "      <td>263</td>\n",
       "      <td>14376</td>\n",
       "      <td>10300</td>\n",
       "      <td>334</td>\n",
       "      <td>6/12</td>\n",
       "      <td>30.83</td>\n",
       "      <td>4.29</td>\n",
       "      <td>43.0</td>\n",
       "      <td>8</td>\n",
       "      <td>2</td>\n",
       "    </tr>\n",
       "    <tr>\n",
       "      <th>1</th>\n",
       "      <td>34105</td>\n",
       "      <td>J Srinath</td>\n",
       "      <td>1991-2003</td>\n",
       "      <td>229</td>\n",
       "      <td>227</td>\n",
       "      <td>11935</td>\n",
       "      <td>8847</td>\n",
       "      <td>315</td>\n",
       "      <td>5/23</td>\n",
       "      <td>28.08</td>\n",
       "      <td>4.44</td>\n",
       "      <td>37.8</td>\n",
       "      <td>7</td>\n",
       "      <td>3</td>\n",
       "    </tr>\n",
       "    <tr>\n",
       "      <th>2</th>\n",
       "      <td>26184</td>\n",
       "      <td>AB Agarkar</td>\n",
       "      <td>1998-2007</td>\n",
       "      <td>191</td>\n",
       "      <td>188</td>\n",
       "      <td>9484</td>\n",
       "      <td>8021</td>\n",
       "      <td>288</td>\n",
       "      <td>6/42</td>\n",
       "      <td>27.85</td>\n",
       "      <td>5.07</td>\n",
       "      <td>32.9</td>\n",
       "      <td>10</td>\n",
       "      <td>2</td>\n",
       "    </tr>\n",
       "    <tr>\n",
       "      <th>3</th>\n",
       "      <td>30102</td>\n",
       "      <td>Z Khan</td>\n",
       "      <td>2000-2012</td>\n",
       "      <td>194</td>\n",
       "      <td>191</td>\n",
       "      <td>9815</td>\n",
       "      <td>8102</td>\n",
       "      <td>269</td>\n",
       "      <td>5/42</td>\n",
       "      <td>30.11</td>\n",
       "      <td>4.95</td>\n",
       "      <td>36.4</td>\n",
       "      <td>7</td>\n",
       "      <td>1</td>\n",
       "    </tr>\n",
       "    <tr>\n",
       "      <th>4</th>\n",
       "      <td>29264</td>\n",
       "      <td>Harbhajan Singh</td>\n",
       "      <td>1998-2015</td>\n",
       "      <td>234</td>\n",
       "      <td>225</td>\n",
       "      <td>12359</td>\n",
       "      <td>8872</td>\n",
       "      <td>265</td>\n",
       "      <td>5/31</td>\n",
       "      <td>33.47</td>\n",
       "      <td>4.30</td>\n",
       "      <td>46.6</td>\n",
       "      <td>2</td>\n",
       "      <td>3</td>\n",
       "    </tr>\n",
       "  </tbody>\n",
       "</table>\n",
       "</div>"
      ],
      "text/plain": [
       "   Player ID           Player       Span  Matches Innings  Balls   Runs Wkts  \\\n",
       "0      30176         A Kumble  1990-2007      269     263  14376  10300  334   \n",
       "1      34105        J Srinath  1991-2003      229     227  11935   8847  315   \n",
       "2      26184       AB Agarkar  1998-2007      191     188   9484   8021  288   \n",
       "3      30102           Z Khan  2000-2012      194     191   9815   8102  269   \n",
       "4      29264  Harbhajan Singh  1998-2015      234     225  12359   8872  265   \n",
       "\n",
       "    BBI    Avg  Econ    SR   4  5  \n",
       "0  6/12  30.83  4.29  43.0   8  2  \n",
       "1  5/23  28.08  4.44  37.8   7  3  \n",
       "2  6/42  27.85  5.07  32.9  10  2  \n",
       "3  5/42  30.11  4.95  36.4   7  1  \n",
       "4  5/31  33.47  4.30  46.6   2  3  "
      ]
     },
     "execution_count": 32,
     "metadata": {},
     "output_type": "execute_result"
    }
   ],
   "source": [
    "df2=pd.read_excel('Datasets/ODI.xlsx',sheet_name='Bowling')\n",
    "df2.head()"
   ]
  },
  {
   "cell_type": "code",
   "execution_count": 33,
   "id": "f5620b69-5d87-4576-bb12-98c6d7cbc98b",
   "metadata": {},
   "outputs": [],
   "source": [
    "df2.drop(['Player','Balls','Span','Runs','BBI'],axis=1,inplace=True)"
   ]
  },
  {
   "cell_type": "markdown",
   "id": "b7803929-74a5-4cbc-8d39-9b410afa943a",
   "metadata": {},
   "source": [
    "df2.info()"
   ]
  },
  {
   "cell_type": "code",
   "execution_count": 34,
   "id": "4d90c53c-843b-4d2c-86fd-e212c5452645",
   "metadata": {},
   "outputs": [],
   "source": [
    "df2['Wkts']=pd.to_numeric(df2['Wkts'],errors='coerce').astype('Int64')\n",
    "df2['Avg']=pd.to_numeric(df2['Avg'],errors='coerce')\n",
    "df2['Econ']=pd.to_numeric(df2['Econ'],errors='coerce')\n",
    "df2['SR']=pd.to_numeric(df2['SR'],errors='coerce')\n",
    "df2['5']=pd.to_numeric(df2['5'],errors='coerce').astype('Int64')\n",
    "df2['4']=pd.to_numeric(df2['4'],errors='coerce').astype('Int64')"
   ]
  },
  {
   "cell_type": "code",
   "execution_count": 35,
   "id": "6bef2d1d-193f-447a-b552-a1b7e26ea0f6",
   "metadata": {},
   "outputs": [],
   "source": [
    "df2.replace('-',np.nan,inplace=True)"
   ]
  },
  {
   "cell_type": "code",
   "execution_count": 36,
   "id": "b5203198-3b1a-461d-a1b1-6dcf9aea5782",
   "metadata": {},
   "outputs": [
    {
     "name": "stdout",
     "output_type": "stream",
     "text": [
      "<class 'pandas.core.frame.DataFrame'>\n",
      "RangeIndex: 259 entries, 0 to 258\n",
      "Data columns (total 9 columns):\n",
      " #   Column     Non-Null Count  Dtype  \n",
      "---  ------     --------------  -----  \n",
      " 0   Player ID  259 non-null    int64  \n",
      " 1   Matches    259 non-null    int64  \n",
      " 2   Innings    196 non-null    object \n",
      " 3   Wkts       196 non-null    Int64  \n",
      " 4   Avg        172 non-null    float64\n",
      " 5   Econ       196 non-null    float64\n",
      " 6   SR         172 non-null    float64\n",
      " 7   4          196 non-null    Int64  \n",
      " 8   5          196 non-null    Int64  \n",
      "dtypes: Int64(3), float64(3), int64(2), object(1)\n",
      "memory usage: 19.1+ KB\n"
     ]
    }
   ],
   "source": [
    "df2.info()"
   ]
  },
  {
   "cell_type": "markdown",
   "id": "8e96860e-6fc6-41e9-9b93-09ed51280d2b",
   "metadata": {},
   "source": [
    "# Fielding"
   ]
  },
  {
   "cell_type": "code",
   "execution_count": 37,
   "id": "3f9b395a-520b-4e4f-80e7-03a0757240da",
   "metadata": {},
   "outputs": [
    {
     "data": {
      "text/html": [
       "<div>\n",
       "<style scoped>\n",
       "    .dataframe tbody tr th:only-of-type {\n",
       "        vertical-align: middle;\n",
       "    }\n",
       "\n",
       "    .dataframe tbody tr th {\n",
       "        vertical-align: top;\n",
       "    }\n",
       "\n",
       "    .dataframe thead th {\n",
       "        text-align: right;\n",
       "    }\n",
       "</style>\n",
       "<table border=\"1\" class=\"dataframe\">\n",
       "  <thead>\n",
       "    <tr style=\"text-align: right;\">\n",
       "      <th></th>\n",
       "      <th>Player ID</th>\n",
       "      <th>Player</th>\n",
       "      <th>Span</th>\n",
       "      <th>Matches</th>\n",
       "      <th>Innings</th>\n",
       "      <th>Dismissals</th>\n",
       "      <th>Catches</th>\n",
       "      <th>Stumps</th>\n",
       "      <th>Ct Wk</th>\n",
       "      <th>Ct Fi</th>\n",
       "      <th>MD</th>\n",
       "      <th>D/I</th>\n",
       "    </tr>\n",
       "  </thead>\n",
       "  <tbody>\n",
       "    <tr>\n",
       "      <th>0</th>\n",
       "      <td>28081</td>\n",
       "      <td>MS Dhoni</td>\n",
       "      <td>2004-2019</td>\n",
       "      <td>347</td>\n",
       "      <td>342</td>\n",
       "      <td>438</td>\n",
       "      <td>318</td>\n",
       "      <td>120</td>\n",
       "      <td>318</td>\n",
       "      <td>0</td>\n",
       "      <td>6 (5ct 1st)</td>\n",
       "      <td>1.280</td>\n",
       "    </tr>\n",
       "    <tr>\n",
       "      <th>1</th>\n",
       "      <td>28114</td>\n",
       "      <td>R Dravid</td>\n",
       "      <td>1996-2011</td>\n",
       "      <td>340</td>\n",
       "      <td>337</td>\n",
       "      <td>210</td>\n",
       "      <td>196</td>\n",
       "      <td>14</td>\n",
       "      <td>72</td>\n",
       "      <td>124</td>\n",
       "      <td>4 (4ct 0st)</td>\n",
       "      <td>0.623</td>\n",
       "    </tr>\n",
       "    <tr>\n",
       "      <th>2</th>\n",
       "      <td>26329</td>\n",
       "      <td>M Azharuddin</td>\n",
       "      <td>1985-2000</td>\n",
       "      <td>334</td>\n",
       "      <td>332</td>\n",
       "      <td>156</td>\n",
       "      <td>156</td>\n",
       "      <td>0</td>\n",
       "      <td>0</td>\n",
       "      <td>156</td>\n",
       "      <td>4 (4ct 0st)</td>\n",
       "      <td>0.469</td>\n",
       "    </tr>\n",
       "    <tr>\n",
       "      <th>3</th>\n",
       "      <td>253802</td>\n",
       "      <td>V Kohli</td>\n",
       "      <td>2008-2025</td>\n",
       "      <td>298</td>\n",
       "      <td>295</td>\n",
       "      <td>156</td>\n",
       "      <td>156</td>\n",
       "      <td>0</td>\n",
       "      <td>0</td>\n",
       "      <td>156</td>\n",
       "      <td>3 (3ct 0st)</td>\n",
       "      <td>0.528</td>\n",
       "    </tr>\n",
       "    <tr>\n",
       "      <th>4</th>\n",
       "      <td>31036</td>\n",
       "      <td>NR Mongia</td>\n",
       "      <td>1994-2000</td>\n",
       "      <td>140</td>\n",
       "      <td>139</td>\n",
       "      <td>154</td>\n",
       "      <td>110</td>\n",
       "      <td>44</td>\n",
       "      <td>110</td>\n",
       "      <td>0</td>\n",
       "      <td>5 (4ct 1st)</td>\n",
       "      <td>1.107</td>\n",
       "    </tr>\n",
       "  </tbody>\n",
       "</table>\n",
       "</div>"
      ],
      "text/plain": [
       "   Player ID        Player       Span  Matches  Innings  Dismissals  Catches  \\\n",
       "0      28081      MS Dhoni  2004-2019      347      342         438      318   \n",
       "1      28114      R Dravid  1996-2011      340      337         210      196   \n",
       "2      26329  M Azharuddin  1985-2000      334      332         156      156   \n",
       "3     253802       V Kohli  2008-2025      298      295         156      156   \n",
       "4      31036     NR Mongia  1994-2000      140      139         154      110   \n",
       "\n",
       "   Stumps  Ct Wk  Ct Fi           MD    D/I  \n",
       "0     120    318      0  6 (5ct 1st)  1.280  \n",
       "1      14     72    124  4 (4ct 0st)  0.623  \n",
       "2       0      0    156  4 (4ct 0st)  0.469  \n",
       "3       0      0    156  3 (3ct 0st)  0.528  \n",
       "4      44    110      0  5 (4ct 1st)  1.107  "
      ]
     },
     "execution_count": 37,
     "metadata": {},
     "output_type": "execute_result"
    }
   ],
   "source": [
    "df3=pd.read_excel('Datasets/ODI.xlsx',sheet_name='Fielding')\n",
    "df3.head()"
   ]
  },
  {
   "cell_type": "code",
   "execution_count": 38,
   "id": "0caf7b45-7908-4f4c-8510-58bab405349f",
   "metadata": {},
   "outputs": [],
   "source": [
    "df3.drop(['Player','Innings','MD','Span','Innings'],axis=1,inplace=True)"
   ]
  },
  {
   "cell_type": "code",
   "execution_count": 39,
   "id": "4e47853f-4473-4ff5-84ac-387bb2a01f2f",
   "metadata": {},
   "outputs": [
    {
     "name": "stdout",
     "output_type": "stream",
     "text": [
      "<class 'pandas.core.frame.DataFrame'>\n",
      "RangeIndex: 259 entries, 0 to 258\n",
      "Data columns (total 8 columns):\n",
      " #   Column      Non-Null Count  Dtype  \n",
      "---  ------      --------------  -----  \n",
      " 0   Player ID   259 non-null    int64  \n",
      " 1   Matches     259 non-null    int64  \n",
      " 2   Dismissals  259 non-null    int64  \n",
      " 3   Catches     259 non-null    int64  \n",
      " 4   Stumps      259 non-null    int64  \n",
      " 5   Ct Wk       259 non-null    int64  \n",
      " 6   Ct Fi       259 non-null    int64  \n",
      " 7   D/I         259 non-null    float64\n",
      "dtypes: float64(1), int64(7)\n",
      "memory usage: 16.3 KB\n"
     ]
    }
   ],
   "source": [
    "df3.info()"
   ]
  },
  {
   "cell_type": "code",
   "execution_count": 40,
   "id": "b4d9fd82-8f7c-451a-a04b-a9ffaeca093a",
   "metadata": {},
   "outputs": [],
   "source": [
    "df3.replace('-',np.nan,inplace=True)"
   ]
  },
  {
   "cell_type": "code",
   "execution_count": 41,
   "id": "7dbe4dcc-b335-4f08-b0d5-32fa05e7abf6",
   "metadata": {},
   "outputs": [
    {
     "name": "stdout",
     "output_type": "stream",
     "text": [
      "<class 'pandas.core.frame.DataFrame'>\n",
      "RangeIndex: 259 entries, 0 to 258\n",
      "Data columns (total 8 columns):\n",
      " #   Column      Non-Null Count  Dtype  \n",
      "---  ------      --------------  -----  \n",
      " 0   Player ID   259 non-null    int64  \n",
      " 1   Matches     259 non-null    int64  \n",
      " 2   Dismissals  259 non-null    int64  \n",
      " 3   Catches     259 non-null    int64  \n",
      " 4   Stumps      259 non-null    int64  \n",
      " 5   Ct Wk       259 non-null    int64  \n",
      " 6   Ct Fi       259 non-null    int64  \n",
      " 7   D/I         259 non-null    float64\n",
      "dtypes: float64(1), int64(7)\n",
      "memory usage: 16.3 KB\n"
     ]
    }
   ],
   "source": [
    "df3.info()"
   ]
  },
  {
   "cell_type": "code",
   "execution_count": 42,
   "id": "13624e53-98ba-44a5-9ee7-2d739aeadb43",
   "metadata": {},
   "outputs": [],
   "source": [
    "df1.dropna(inplace=True)"
   ]
  },
  {
   "cell_type": "code",
   "execution_count": 43,
   "id": "4fec27f2-780c-4e2a-81d0-c5f6ee59c071",
   "metadata": {},
   "outputs": [],
   "source": [
    "df2.dropna(inplace=True)\n",
    "df3.dropna(inplace=True)"
   ]
  },
  {
   "cell_type": "code",
   "execution_count": 44,
   "id": "2938f327-f94c-495d-8b99-64d5d22dd71a",
   "metadata": {},
   "outputs": [],
   "source": [
    "with pd.ExcelWriter(\"Cleaned_datasets/ODI.xlsx\") as writer:\n",
    "    df1.to_excel(writer, sheet_name=\"Batting\",index=False)\n",
    "    df2.to_excel(writer, sheet_name=\"Bowling\", index=False)\n",
    "    df3.to_excel(writer, sheet_name=\"Fielding\", index=False)"
   ]
  },
  {
   "cell_type": "code",
   "execution_count": null,
   "id": "390e5d31-9b95-4519-a12d-bee87d90d6b1",
   "metadata": {},
   "outputs": [],
   "source": []
  }
 ],
 "metadata": {
  "kernelspec": {
   "display_name": "Python 3 (ipykernel)",
   "language": "python",
   "name": "python3"
  },
  "language_info": {
   "codemirror_mode": {
    "name": "ipython",
    "version": 3
   },
   "file_extension": ".py",
   "mimetype": "text/x-python",
   "name": "python",
   "nbconvert_exporter": "python",
   "pygments_lexer": "ipython3",
   "version": "3.12.7"
  }
 },
 "nbformat": 4,
 "nbformat_minor": 5
}
